{
 "cells": [
  {
   "cell_type": "markdown",
   "metadata": {},
   "source": [
    "# Analiza možnosti za nedeljski izlet\n",
    "Podatki so zajeti s spletne strani [hribi.net](http://www.hribi.net/goreiskanjerezultat.asp?drzavaid=1&gorovjeid=&goraime=&VisinaMIN=&VisinaMAX=&CasMIN=&CasMAX=&izhodisce=&izhodisceMIN=&izhodisceMAX=&VisinskaRazlikaMIN=&VisinskaRazlikaMAX=&zahtevnostid=&zahtevnostSmucanjeid=&IzhodisceMinOddaljenost=&IzhodisceMAXOddaljenost=&GoraMinOddaljenost=&GoraMaxOddaljenost=&mojaSirina=0&mojaDolzina=0), kjer je trenutno 1704 možnosti za izbiro izleta po Sloveniji (*19. 12. 2018*).\n",
    "### V spodnji analizi so zbrani naslednji podatki:\n",
    "* ime izleta,\n",
    "* nadmorska višina,\n",
    "* mesto priljubljenosti,\n",
    "* procent priljubljenosti,\n",
    "* zahtevnost poti,\n",
    "* čas hoje,\n",
    "* število poti,\n",
    "* vrsta izletniške točke,\n",
    "* gorovje v katerem se nahaja in\n",
    "* opis izletniške točke."
   ]
  },
  {
   "cell_type": "markdown",
   "metadata": {},
   "source": [
    "## Analiza podatkov\n",
    "Podatki iz osnovne tabele so predstavljeni v popravljeni tabeli. Ta namesto mešanega stolpca 'Čas poti', vsebuje stolpec 'Čas poti v minutah'. "
   ]
  },
  {
   "cell_type": "code",
   "execution_count": 132,
   "metadata": {},
   "outputs": [],
   "source": [
    "import pandas as pd\n",
    "pd.options.display.max_rows = 10"
   ]
  },
  {
   "cell_type": "code",
   "execution_count": 172,
   "metadata": {},
   "outputs": [],
   "source": [
    "izleti = pd.read_csv('../Prog1_projekt_izlet/Prog1_projekt_izlet/podatki_izlet/podatki_izletov.csv', index_col = 'id')\n",
    "izleti.columns = ['Ime', 'Gorovje', 'Nadmorska višina v metrih', 'Vrsta', 'Priljubljenost v %', \n",
    "                  'Mesto priljubljenosti', 'Št. poti', 'Opis', 'Čas poti', 'Zahtevnost poti']\n",
    "izleti = izleti[['Ime', 'Nadmorska višina v metrih', 'Mesto priljubljenosti', 'Priljubljenost v %', \n",
    "                 'Zahtevnost poti', 'Čas poti', 'Št. poti', 'Vrsta', 'Gorovje', 'Opis']]"
   ]
  },
  {
   "cell_type": "markdown",
   "metadata": {},
   "source": [
    "Sprememba enot v stolpcu 'Čas poti'. Uporabili smo naslednjo funkcijo:"
   ]
  },
  {
   "cell_type": "code",
   "execution_count": 173,
   "metadata": {},
   "outputs": [],
   "source": [
    "def v_minute(x):\n",
    "    if x < 6:\n",
    "        x = 60*x\n",
    "    return x"
   ]
  },
  {
   "cell_type": "code",
   "execution_count": 174,
   "metadata": {},
   "outputs": [],
   "source": [
    "izleti['Čas poti v min'] = izleti['Čas poti'].apply(v_minute)\n",
    "izleti = izleti.drop(columns = 'Čas poti')"
   ]
  },
  {
   "cell_type": "code",
   "execution_count": 175,
   "metadata": {},
   "outputs": [],
   "source": [
    "priljubljeni = izleti['Priljubljenost v %'] >= 80"
   ]
  },
  {
   "cell_type": "code",
   "execution_count": 176,
   "metadata": {},
   "outputs": [],
   "source": [
    "nizji = izleti['Nadmorska višina v metrih'] <= 1500\n",
    "krajsi = izleti['Čas poti v min'] <= 30\n",
    "druzinski = izleti[priljubljeni & nizji & krajsi]"
   ]
  },
  {
   "cell_type": "code",
   "execution_count": 177,
   "metadata": {},
   "outputs": [],
   "source": [
    "visji = izleti['Nadmorska višina v metrih'] >= 1500\n",
    "daljsi = izleti['Čas poti v min'] > 60\n",
    "sportni = izleti[priljubljeni & visji & daljsi] "
   ]
  },
  {
   "cell_type": "code",
   "execution_count": 178,
   "metadata": {},
   "outputs": [],
   "source": [
    "visoki = izleti['Nadmorska višina v metrih'] >= 2000\n",
    "dolgi = izleti['Čas poti v min'] >= 300\n",
    "ekstremni = izleti[priljubljeni & visoki & dolgi]"
   ]
  },
  {
   "cell_type": "code",
   "execution_count": 179,
   "metadata": {},
   "outputs": [
    {
     "data": {
      "text/plain": [
       "Zahtevnost poti\n",
       "ni podatka                           2\n",
       "alpinistični vzpon                   3\n",
       "zelo zahtevna neoznačena steza       5\n",
       "izjemno zahtevna označena pot        7\n",
       "zelo zahtevno brezpotje             12\n",
       "                                  ... \n",
       "zahtevna označena pot               43\n",
       "lahko brezpotje                     69\n",
       "delno zahtevna označena pot         72\n",
       "lahka neoznačena steza             325\n",
       "lahka označena pot                1047\n",
       "Length: 14, dtype: int64"
      ]
     },
     "execution_count": 179,
     "metadata": {},
     "output_type": "execute_result"
    }
   ],
   "source": [
    "zahtevnost = izleti.groupby('Zahtevnost poti')\n",
    "zahtevnost.size().sort_values()"
   ]
  },
  {
   "cell_type": "code",
   "execution_count": 180,
   "metadata": {},
   "outputs": [
    {
     "data": {
      "text/plain": [
       "Gorovje\n",
       "Polhograjsko hribovje in Ljubljana                78\n",
       "Pohorje in ostala severovzhodna Slovenija         92\n",
       "Škofjeloško, Cerkljansko hribovje in Jelovica    116\n",
       "Zasavsko - Posavsko hribovje in Dolenjska        181\n",
       "Karavanke                                        255\n",
       "Kamniško Savinjske Alpe                          257\n",
       "Goriško, Notranjsko in Snežniško hribovje        263\n",
       "Julijske Alpe                                    462\n",
       "dtype: int64"
      ]
     },
     "execution_count": 180,
     "metadata": {},
     "output_type": "execute_result"
    }
   ],
   "source": [
    "gorovje = izleti.groupby('Gorovje')\n",
    "gorovje.size().sort_values()"
   ]
  },
  {
   "cell_type": "code",
   "execution_count": null,
   "metadata": {},
   "outputs": [],
   "source": []
  },
  {
   "cell_type": "code",
   "execution_count": null,
   "metadata": {},
   "outputs": [],
   "source": []
  }
 ],
 "metadata": {
  "kernelspec": {
   "display_name": "Python 3",
   "language": "python",
   "name": "python3"
  },
  "language_info": {
   "codemirror_mode": {
    "name": "ipython",
    "version": 3
   },
   "file_extension": ".py",
   "mimetype": "text/x-python",
   "name": "python",
   "nbconvert_exporter": "python",
   "pygments_lexer": "ipython3",
   "version": "3.6.7"
  }
 },
 "nbformat": 4,
 "nbformat_minor": 2
}
