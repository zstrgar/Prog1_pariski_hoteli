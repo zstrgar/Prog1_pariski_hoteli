{
 "cells": [
  {
   "cell_type": "markdown",
   "metadata": {},
   "source": [
    "# Analiza možnosti za nedeljski izlet\n",
    "Podatki so zajeti s spletne strani [hribi.net](http://www.hribi.net/goreiskanjerezultat.asp?drzavaid=1&gorovjeid=&goraime=&VisinaMIN=&VisinaMAX=&CasMIN=&CasMAX=&izhodisce=&izhodisceMIN=&izhodisceMAX=&VisinskaRazlikaMIN=&VisinskaRazlikaMAX=&zahtevnostid=&zahtevnostSmucanjeid=&IzhodisceMinOddaljenost=&IzhodisceMAXOddaljenost=&GoraMinOddaljenost=&GoraMaxOddaljenost=&mojaSirina=0&mojaDolzina=0), kjer je trenutno 1704 možnosti za izbiro izleta po Sloveniji (*19. 12. 2018*).\n",
    "### V spodnji analizi so zbrani naslednji podatki:\n",
    "* ime izleta,\n",
    "* nadmorska višina,\n",
    "* mesto priljubljenosti,\n",
    "* procent priljubljenosti,\n",
    "* zahtevnost poti,\n",
    "* čas hoje,\n",
    "* število poti,\n",
    "* vrsta izletniške točke,\n",
    "* gorovje v katerem se nahaja in\n",
    "* opis izletniške točke."
   ]
  },
  {
   "cell_type": "markdown",
   "metadata": {},
   "source": [
    "## Analiza podatkov\n",
    "Podatki iz osnovne tabele so predstavljeni v popravljeni tabeli. Ta namesto mešanega stolpca 'Čas poti', vsebuje stolpec 'Čas poti v minutah'. "
   ]
  },
  {
   "cell_type": "code",
   "execution_count": 2,
   "metadata": {},
   "outputs": [],
   "source": [
    "import pandas as pd\n",
    "import matplotlib.pyplot as plt\n",
    "import numpy as np\n",
    "pd.options.display.max_rows = 15"
   ]
  },
  {
   "cell_type": "code",
   "execution_count": 3,
   "metadata": {},
   "outputs": [],
   "source": [
    "izleti = pd.read_csv('../Prog1_projekt_izlet/Prog1_projekt_izlet/podatki_izlet/podatki_izletov.csv', index_col = 'id')\n",
    "izleti.columns = ['Ime', 'Gorovje', 'Nadmorska višina v metrih', 'Vrsta', 'Priljubljenost v %', \n",
    "                  'Mesto priljubljenosti', 'Št. poti', 'Opis', 'Čas poti', 'Zahtevnost poti']\n",
    "izleti = izleti[['Ime', 'Nadmorska višina v metrih', 'Mesto priljubljenosti', 'Priljubljenost v %', \n",
    "                 'Zahtevnost poti', 'Čas poti', 'Št. poti', 'Vrsta', 'Gorovje', 'Opis']]"
   ]
  },
  {
   "cell_type": "markdown",
   "metadata": {},
   "source": [
    "Sprememba enot v stolpcu 'Čas poti'. Uporabili smo naslednjo funkcijo:"
   ]
  },
  {
   "cell_type": "code",
   "execution_count": 4,
   "metadata": {},
   "outputs": [],
   "source": [
    "def v_minute(x):\n",
    "    if x < 6:\n",
    "        x = 60*x\n",
    "    return x"
   ]
  },
  {
   "cell_type": "code",
   "execution_count": 5,
   "metadata": {},
   "outputs": [],
   "source": [
    "izleti['Čas poti v min'] = izleti['Čas poti'].apply(v_minute)\n",
    "izleti = izleti.drop(columns = 'Čas poti')"
   ]
  },
  {
   "cell_type": "code",
   "execution_count": 22,
   "metadata": {},
   "outputs": [],
   "source": [
    "priljubljeni = izleti['Priljubljenost v %'] >= 80\n",
    "priljubljeni_izleti = izleti[priljubljeni]"
   ]
  },
  {
   "cell_type": "code",
   "execution_count": 7,
   "metadata": {},
   "outputs": [],
   "source": [
    "nizji = izleti['Nadmorska višina v metrih'] <= 1500\n",
    "krajsi = izleti['Čas poti v min'] <= 30\n",
    "druzinski = izleti[priljubljeni & nizji & krajsi]"
   ]
  },
  {
   "cell_type": "code",
   "execution_count": 8,
   "metadata": {},
   "outputs": [],
   "source": [
    "visji = izleti['Nadmorska višina v metrih'] >= 1500\n",
    "daljsi = izleti['Čas poti v min'] > 60\n",
    "sportni = izleti[priljubljeni & visji & daljsi] "
   ]
  },
  {
   "cell_type": "code",
   "execution_count": 9,
   "metadata": {},
   "outputs": [],
   "source": [
    "visoki = izleti['Nadmorska višina v metrih'] >= 2000\n",
    "dolgi = izleti['Čas poti v min'] >= 300\n",
    "ekstremni = izleti[priljubljeni & visoki & dolgi]"
   ]
  },
  {
   "cell_type": "code",
   "execution_count": 10,
   "metadata": {},
   "outputs": [
    {
     "data": {
      "text/plain": [
       "Zahtevnost poti\n",
       "lahka označena pot                1047\n",
       "lahka neoznačena steza             325\n",
       "delno zahtevna označena pot         72\n",
       "lahko brezpotje                     69\n",
       "zahtevna označena pot               43\n",
       "zelo zahtevna označena pot          35\n",
       "delno zahtevna neoznačena pot       33\n",
       "zahtevno brezpotje                  27\n",
       "zahtevna neoznačena steza           24\n",
       "zelo zahtevno brezpotje             12\n",
       "izjemno zahtevna označena pot        7\n",
       "zelo zahtevna neoznačena steza       5\n",
       "alpinistični vzpon                   3\n",
       "ni podatka                           2\n",
       "dtype: int64"
      ]
     },
     "execution_count": 10,
     "metadata": {},
     "output_type": "execute_result"
    }
   ],
   "source": [
    "zahtevnost = izleti.groupby('Zahtevnost poti')\n",
    "zahtevnost.size().sort_values(ascending=False)"
   ]
  },
  {
   "cell_type": "code",
   "execution_count": 11,
   "metadata": {},
   "outputs": [
    {
     "data": {
      "text/plain": [
       "Gorovje\n",
       "Julijske Alpe                                    462\n",
       "Goriško, Notranjsko in Snežniško hribovje        263\n",
       "Kamniško Savinjske Alpe                          257\n",
       "Karavanke                                        255\n",
       "Zasavsko - Posavsko hribovje in Dolenjska        181\n",
       "Škofjeloško, Cerkljansko hribovje in Jelovica    116\n",
       "Pohorje in ostala severovzhodna Slovenija         92\n",
       "Polhograjsko hribovje in Ljubljana                78\n",
       "dtype: int64"
      ]
     },
     "execution_count": 11,
     "metadata": {},
     "output_type": "execute_result"
    }
   ],
   "source": [
    "gorovje = izleti.groupby('Gorovje')\n",
    "izleti_v_gorovju = gorovje.size().sort_values(ascending=False)\n",
    "izleti_v_gorovju"
   ]
  },
  {
   "cell_type": "markdown",
   "metadata": {},
   "source": [
    "Povprečni izlet ima naslednje lastnosti:"
   ]
  },
  {
   "cell_type": "code",
   "execution_count": 12,
   "metadata": {},
   "outputs": [
    {
     "data": {
      "text/plain": [
       "Nadmorska višina v metrih    1197.588615\n",
       "Mesto priljubljenosti        1041.220070\n",
       "Priljubljenost v %             59.075704\n",
       "Št. poti                        3.225352\n",
       "Čas poti v min                 88.449531\n",
       "dtype: float64"
      ]
     },
     "execution_count": 12,
     "metadata": {},
     "output_type": "execute_result"
    }
   ],
   "source": [
    "povprecni_izlet = izleti.mean()\n",
    "povprecni_izlet"
   ]
  },
  {
   "cell_type": "markdown",
   "metadata": {},
   "source": [
    "Izleti v različnih gorovjih pa imajo take lastnosti:"
   ]
  },
  {
   "cell_type": "code",
   "execution_count": 13,
   "metadata": {},
   "outputs": [
    {
     "data": {
      "text/html": [
       "<div>\n",
       "<style scoped>\n",
       "    .dataframe tbody tr th:only-of-type {\n",
       "        vertical-align: middle;\n",
       "    }\n",
       "\n",
       "    .dataframe tbody tr th {\n",
       "        vertical-align: top;\n",
       "    }\n",
       "\n",
       "    .dataframe thead th {\n",
       "        text-align: right;\n",
       "    }\n",
       "</style>\n",
       "<table border=\"1\" class=\"dataframe\">\n",
       "  <thead>\n",
       "    <tr style=\"text-align: right;\">\n",
       "      <th></th>\n",
       "      <th>Nadmorska višina v metrih</th>\n",
       "      <th>Mesto priljubljenosti</th>\n",
       "      <th>Priljubljenost v %</th>\n",
       "      <th>Št. poti</th>\n",
       "      <th>Čas poti v min</th>\n",
       "    </tr>\n",
       "    <tr>\n",
       "      <th>Gorovje</th>\n",
       "      <th></th>\n",
       "      <th></th>\n",
       "      <th></th>\n",
       "      <th></th>\n",
       "      <th></th>\n",
       "    </tr>\n",
       "  </thead>\n",
       "  <tbody>\n",
       "    <tr>\n",
       "      <th>Goriško, Notranjsko in Snežniško hribovje</th>\n",
       "      <td>783.376426</td>\n",
       "      <td>1229.536122</td>\n",
       "      <td>51.646388</td>\n",
       "      <td>2.893536</td>\n",
       "      <td>67.053232</td>\n",
       "    </tr>\n",
       "    <tr>\n",
       "      <th>Julijske Alpe</th>\n",
       "      <td>1638.835498</td>\n",
       "      <td>832.134199</td>\n",
       "      <td>67.296537</td>\n",
       "      <td>2.831169</td>\n",
       "      <td>128.199134</td>\n",
       "    </tr>\n",
       "    <tr>\n",
       "      <th>Kamniško Savinjske Alpe</th>\n",
       "      <td>1430.891051</td>\n",
       "      <td>829.622568</td>\n",
       "      <td>67.392996</td>\n",
       "      <td>4.171206</td>\n",
       "      <td>98.739300</td>\n",
       "    </tr>\n",
       "    <tr>\n",
       "      <th>Karavanke</th>\n",
       "      <td>1335.329412</td>\n",
       "      <td>1150.521569</td>\n",
       "      <td>54.800000</td>\n",
       "      <td>3.333333</td>\n",
       "      <td>80.549020</td>\n",
       "    </tr>\n",
       "    <tr>\n",
       "      <th>Pohorje in ostala severovzhodna Slovenija</th>\n",
       "      <td>844.445652</td>\n",
       "      <td>1268.608696</td>\n",
       "      <td>50.119565</td>\n",
       "      <td>2.369565</td>\n",
       "      <td>70.750000</td>\n",
       "    </tr>\n",
       "    <tr>\n",
       "      <th>Polhograjsko hribovje in Ljubljana</th>\n",
       "      <td>644.192308</td>\n",
       "      <td>1036.743590</td>\n",
       "      <td>59.230769</td>\n",
       "      <td>3.961538</td>\n",
       "      <td>45.897436</td>\n",
       "    </tr>\n",
       "    <tr>\n",
       "      <th>Zasavsko - Posavsko hribovje in Dolenjska</th>\n",
       "      <td>695.348066</td>\n",
       "      <td>1194.353591</td>\n",
       "      <td>53.077348</td>\n",
       "      <td>2.895028</td>\n",
       "      <td>61.712707</td>\n",
       "    </tr>\n",
       "    <tr>\n",
       "      <th>Škofjeloško, Cerkljansko hribovje in Jelovica</th>\n",
       "      <td>995.508621</td>\n",
       "      <td>1259.250000</td>\n",
       "      <td>50.508621</td>\n",
       "      <td>3.913793</td>\n",
       "      <td>57.586207</td>\n",
       "    </tr>\n",
       "  </tbody>\n",
       "</table>\n",
       "</div>"
      ],
      "text/plain": [
       "                                               Nadmorska višina v metrih  \\\n",
       "Gorovje                                                                    \n",
       "Goriško, Notranjsko in Snežniško hribovje                     783.376426   \n",
       "Julijske Alpe                                                1638.835498   \n",
       "Kamniško Savinjske Alpe                                      1430.891051   \n",
       "Karavanke                                                    1335.329412   \n",
       "Pohorje in ostala severovzhodna Slovenija                     844.445652   \n",
       "Polhograjsko hribovje in Ljubljana                            644.192308   \n",
       "Zasavsko - Posavsko hribovje in Dolenjska                     695.348066   \n",
       "Škofjeloško, Cerkljansko hribovje in Jelovica                 995.508621   \n",
       "\n",
       "                                               Mesto priljubljenosti  \\\n",
       "Gorovje                                                                \n",
       "Goriško, Notranjsko in Snežniško hribovje                1229.536122   \n",
       "Julijske Alpe                                             832.134199   \n",
       "Kamniško Savinjske Alpe                                   829.622568   \n",
       "Karavanke                                                1150.521569   \n",
       "Pohorje in ostala severovzhodna Slovenija                1268.608696   \n",
       "Polhograjsko hribovje in Ljubljana                       1036.743590   \n",
       "Zasavsko - Posavsko hribovje in Dolenjska                1194.353591   \n",
       "Škofjeloško, Cerkljansko hribovje in Jelovica            1259.250000   \n",
       "\n",
       "                                               Priljubljenost v %  Št. poti  \\\n",
       "Gorovje                                                                       \n",
       "Goriško, Notranjsko in Snežniško hribovje               51.646388  2.893536   \n",
       "Julijske Alpe                                           67.296537  2.831169   \n",
       "Kamniško Savinjske Alpe                                 67.392996  4.171206   \n",
       "Karavanke                                               54.800000  3.333333   \n",
       "Pohorje in ostala severovzhodna Slovenija               50.119565  2.369565   \n",
       "Polhograjsko hribovje in Ljubljana                      59.230769  3.961538   \n",
       "Zasavsko - Posavsko hribovje in Dolenjska               53.077348  2.895028   \n",
       "Škofjeloško, Cerkljansko hribovje in Jelovica           50.508621  3.913793   \n",
       "\n",
       "                                               Čas poti v min  \n",
       "Gorovje                                                        \n",
       "Goriško, Notranjsko in Snežniško hribovje           67.053232  \n",
       "Julijske Alpe                                      128.199134  \n",
       "Kamniško Savinjske Alpe                             98.739300  \n",
       "Karavanke                                           80.549020  \n",
       "Pohorje in ostala severovzhodna Slovenija           70.750000  \n",
       "Polhograjsko hribovje in Ljubljana                  45.897436  \n",
       "Zasavsko - Posavsko hribovje in Dolenjska           61.712707  \n",
       "Škofjeloško, Cerkljansko hribovje in Jelovica       57.586207  "
      ]
     },
     "execution_count": 13,
     "metadata": {},
     "output_type": "execute_result"
    }
   ],
   "source": [
    "gorovje.mean()"
   ]
  },
  {
   "cell_type": "markdown",
   "metadata": {},
   "source": [
    "Zanima nas kako se število izletov spreminja z gorovji:"
   ]
  },
  {
   "cell_type": "code",
   "execution_count": 20,
   "metadata": {},
   "outputs": [
    {
     "data": {
      "text/plain": [
       "<matplotlib.axes._subplots.AxesSubplot at 0x181ff3b1978>"
      ]
     },
     "execution_count": 20,
     "metadata": {},
     "output_type": "execute_result"
    },
    {
     "data": {
      "image/png": "[encoded data removed]",
      "text/plain": [
       "<Figure size 432x288 with 1 Axes>"
      ]
     },
     "metadata": {
      "needs_background": "light"
     },
     "output_type": "display_data"
    }
   ],
   "source": [
    "izleti_v_gorovju.plot.bar(title = 'Število izletov glede na gorovje v katerem se nahajajo', grid = True)"
   ]
  },
  {
   "cell_type": "code",
   "execution_count": 36,
   "metadata": {},
   "outputs": [
    {
     "data": {
      "text/plain": [
       "<matplotlib.axes._subplots.AxesSubplot at 0x181ff7efa90>"
      ]
     },
     "execution_count": 36,
     "metadata": {},
     "output_type": "execute_result"
    },
    {
     "data": {
      "image/png": "[encoded data removed]",
      "text/plain": [
       "<Figure size 432x288 with 1 Axes>"
      ]
     },
     "metadata": {
      "needs_background": "light"
     },
     "output_type": "display_data"
    }
   ],
   "source": [
    "najbolj_priljubljeni = priljubljeni_izleti.sort_values('Priljubljenost v %', ascending = False).head(50)\n",
    "najbolj_priljubljeni.sort_values('Nadmorska višina v metrih', ascending=False).plot.bar(x = 'Ime', y = 'Nadmorska višina v metrih')"
   ]
  },
  {
   "cell_type": "code",
   "execution_count": null,
   "metadata": {},
   "outputs": [],
   "source": []
  }
 ],
 "metadata": {
  "kernelspec": {
   "display_name": "Python 3",
   "language": "python",
   "name": "python3"
  },
  "language_info": {
   "codemirror_mode": {
    "name": "ipython",
    "version": 3
   },
   "file_extension": ".py",
   "mimetype": "text/x-python",
   "name": "python",
   "nbconvert_exporter": "python",
   "pygments_lexer": "ipython3",
   "version": "3.6.7"
  }
 },
 "nbformat": 4,
 "nbformat_minor": 2
}
