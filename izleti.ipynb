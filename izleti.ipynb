{
 "cells": [
  {
   "cell_type": "markdown",
   "metadata": {},
   "source": [
    "# Analiza možnosti za nedeljski izlet\n",
    "Podatki so zajeti s spletne strani [hribi.net](http://www.hribi.net/goreiskanjerezultat.asp?drzavaid=1&gorovjeid=&goraime=&VisinaMIN=&VisinaMAX=&CasMIN=&CasMAX=&izhodisce=&izhodisceMIN=&izhodisceMAX=&VisinskaRazlikaMIN=&VisinskaRazlikaMAX=&zahtevnostid=&zahtevnostSmucanjeid=&IzhodisceMinOddaljenost=&IzhodisceMAXOddaljenost=&GoraMinOddaljenost=&GoraMaxOddaljenost=&mojaSirina=0&mojaDolzina=0), kjer je trenutno 1704 možnosti za izbiro izleta po Sloveniji (*19. 12. 2018*).\n",
    "### V spodnji analizi so zbrani naslednji podatki:\n",
    "* ime izleta,\n",
    "* nadmorska višina,\n",
    "* mesto priljubljenosti,\n",
    "* procent priljubljenosti,\n",
    "* zahtevnost poti,\n",
    "* čas hoje,\n",
    "* število poti,\n",
    "* vrsta izletniške točke,\n",
    "* gorovje v katerem se nahaja in\n",
    "* opis izletniške točke."
   ]
  },
  {
   "cell_type": "markdown",
   "metadata": {},
   "source": [
    "## Analiza podatkov\n",
    "Podatki iz osnovne tabele so predstavljeni v popravljeni tabeli. Ta namesto mešanega stolpca 'Čas poti', vsebuje stolpec 'Čas poti v minutah'. "
   ]
  },
  {
   "cell_type": "code",
   "execution_count": 286,
   "metadata": {},
   "outputs": [],
   "source": [
    "import pandas as pd\n",
    "import matplotlib.pyplot as plt\n",
    "plt.rcParams['figure.figsize'] = [14, 7]\n",
    "pd.options.display.max_rows = 20"
   ]
  },
  {
   "cell_type": "code",
   "execution_count": 287,
   "metadata": {},
   "outputs": [],
   "source": [
    "izleti = pd.read_csv('../Prog1_projekt_izlet/Prog1_projekt_izlet/podatki_izlet/podatki_izletov.csv', index_col = 'id')\n",
    "izleti.columns = ['Ime', 'Gorovje', 'Nadmorska višina v metrih', 'Vrsta', 'Priljubljenost v %', \n",
    "                  'Mesto priljubljenosti', 'Št. poti', 'Opis', 'Čas poti', 'Zahtevnost poti']\n",
    "izleti = izleti[['Ime', 'Nadmorska višina v metrih', 'Mesto priljubljenosti', 'Priljubljenost v %', \n",
    "                 'Zahtevnost poti', 'Čas poti', 'Št. poti', 'Vrsta', 'Gorovje', 'Opis']]"
   ]
  },
  {
   "cell_type": "markdown",
   "metadata": {},
   "source": [
    "Sprememba enot v stolpcu 'Čas poti'. Uporabili smo naslednjo funkcijo:"
   ]
  },
  {
   "cell_type": "code",
   "execution_count": 293,
   "metadata": {},
   "outputs": [],
   "source": [
    "def v_minute(x):\n",
    "    if x < 9 :\n",
    "        x = 60*x\n",
    "    return x"
   ]
  },
  {
   "cell_type": "code",
   "execution_count": 294,
   "metadata": {},
   "outputs": [],
   "source": [
    "izleti['Čas poti v min'] = izleti['Čas poti'].apply(v_minute)\n",
    "izleti = izleti.drop(columns = 'Čas poti')"
   ]
  },
  {
   "cell_type": "markdown",
   "metadata": {},
   "source": [
    "Oglejmo si razpredelnico izletov s katero bomo nadaljevali:"
   ]
  },
  {
   "cell_type": "code",
   "execution_count": 295,
   "metadata": {},
   "outputs": [
    {
     "data": {
      "text/html": [
       "<div>\n",
       "<style scoped>\n",
       "    .dataframe tbody tr th:only-of-type {\n",
       "        vertical-align: middle;\n",
       "    }\n",
       "\n",
       "    .dataframe tbody tr th {\n",
       "        vertical-align: top;\n",
       "    }\n",
       "\n",
       "    .dataframe thead th {\n",
       "        text-align: right;\n",
       "    }\n",
       "</style>\n",
       "<table border=\"1\" class=\"dataframe\">\n",
       "  <thead>\n",
       "    <tr style=\"text-align: right;\">\n",
       "      <th></th>\n",
       "      <th>Ime</th>\n",
       "      <th>Nadmorska višina v metrih</th>\n",
       "      <th>Mesto priljubljenosti</th>\n",
       "      <th>Priljubljenost v %</th>\n",
       "      <th>Zahtevnost poti</th>\n",
       "      <th>Čas poti v min</th>\n",
       "      <th>Št. poti</th>\n",
       "      <th>Vrsta</th>\n",
       "      <th>Gorovje</th>\n",
       "      <th>Opis</th>\n",
       "    </tr>\n",
       "    <tr>\n",
       "      <th>id</th>\n",
       "      <th></th>\n",
       "      <th></th>\n",
       "      <th></th>\n",
       "      <th></th>\n",
       "      <th></th>\n",
       "      <th></th>\n",
       "      <th></th>\n",
       "      <th></th>\n",
       "      <th></th>\n",
       "      <th></th>\n",
       "    </tr>\n",
       "  </thead>\n",
       "  <tbody>\n",
       "    <tr>\n",
       "      <th>1950</th>\n",
       "      <td>Ahac</td>\n",
       "      <td>799</td>\n",
       "      <td>1382</td>\n",
       "      <td>46</td>\n",
       "      <td>lahka označena pot</td>\n",
       "      <td>40</td>\n",
       "      <td>5</td>\n",
       "      <td>vrh, cerkev</td>\n",
       "      <td>Goriško, Notranjsko in Snežniško hribovje</td>\n",
       "      <td>Ahac oz. sv. Ahac je 799 m visok vrh, ki se na...</td>\n",
       "    </tr>\n",
       "    <tr>\n",
       "      <th>2566</th>\n",
       "      <td>Ajdovščina</td>\n",
       "      <td>804</td>\n",
       "      <td>2054</td>\n",
       "      <td>19</td>\n",
       "      <td>lahka neoznačena steza</td>\n",
       "      <td>40</td>\n",
       "      <td>1</td>\n",
       "      <td>vrh</td>\n",
       "      <td>Goriško, Notranjsko in Snežniško hribovje</td>\n",
       "      <td>Ajdovščina je 804 metre visok vrh, ki se nahaj...</td>\n",
       "    </tr>\n",
       "    <tr>\n",
       "      <th>891</th>\n",
       "      <td>Ankaran</td>\n",
       "      <td>18</td>\n",
       "      <td>547</td>\n",
       "      <td>78</td>\n",
       "      <td>lahka označena pot</td>\n",
       "      <td>180</td>\n",
       "      <td>3</td>\n",
       "      <td>NaN</td>\n",
       "      <td>Goriško, Notranjsko in Snežniško hribovje</td>\n",
       "      <td>Ankaran je naselje ob slovenski obali, ki se n...</td>\n",
       "    </tr>\n",
       "    <tr>\n",
       "      <th>2594</th>\n",
       "      <td>Baba (pri Javornikih)</td>\n",
       "      <td>1085</td>\n",
       "      <td>2081</td>\n",
       "      <td>18</td>\n",
       "      <td>lahka neoznačena steza</td>\n",
       "      <td>60</td>\n",
       "      <td>2</td>\n",
       "      <td>vrh</td>\n",
       "      <td>Goriško, Notranjsko in Snežniško hribovje</td>\n",
       "      <td>Baba je 1085 metrov visok vrh, ki se nahaja me...</td>\n",
       "    </tr>\n",
       "    <tr>\n",
       "      <th>1740</th>\n",
       "      <td>Bela stena</td>\n",
       "      <td>1122</td>\n",
       "      <td>1236</td>\n",
       "      <td>51</td>\n",
       "      <td>lahka označena pot</td>\n",
       "      <td>120</td>\n",
       "      <td>1</td>\n",
       "      <td>vrh</td>\n",
       "      <td>Goriško, Notranjsko in Snežniško hribovje</td>\n",
       "      <td>Bela stena (tudi samo Stene) je razgledna točk...</td>\n",
       "    </tr>\n",
       "    <tr>\n",
       "      <th>1227</th>\n",
       "      <td>Bele ovce</td>\n",
       "      <td>1029</td>\n",
       "      <td>1204</td>\n",
       "      <td>53</td>\n",
       "      <td>lahka neoznačena steza</td>\n",
       "      <td>30</td>\n",
       "      <td>1</td>\n",
       "      <td>vrh</td>\n",
       "      <td>Goriško, Notranjsko in Snežniško hribovje</td>\n",
       "      <td>Bele ovce so neporaščen vrh, ki se nahaja vzho...</td>\n",
       "    </tr>\n",
       "    <tr>\n",
       "      <th>1144</th>\n",
       "      <td>Bele stene</td>\n",
       "      <td>863</td>\n",
       "      <td>1310</td>\n",
       "      <td>49</td>\n",
       "      <td>lahka označena pot</td>\n",
       "      <td>60</td>\n",
       "      <td>2</td>\n",
       "      <td>NaN</td>\n",
       "      <td>Goriško, Notranjsko in Snežniško hribovje</td>\n",
       "      <td>Bele stene se nahajajo severno od vasi Jurišče...</td>\n",
       "    </tr>\n",
       "    <tr>\n",
       "      <th>2135</th>\n",
       "      <td>Belovka</td>\n",
       "      <td>848</td>\n",
       "      <td>1579</td>\n",
       "      <td>38</td>\n",
       "      <td>lahka neoznačena steza</td>\n",
       "      <td>15</td>\n",
       "      <td>2</td>\n",
       "      <td>vrh</td>\n",
       "      <td>Goriško, Notranjsko in Snežniško hribovje</td>\n",
       "      <td>Belovka je 848 metrov visok hrib, ki se nahaja...</td>\n",
       "    </tr>\n",
       "    <tr>\n",
       "      <th>2556</th>\n",
       "      <td>Bezgarska planina</td>\n",
       "      <td>895</td>\n",
       "      <td>2257</td>\n",
       "      <td>11</td>\n",
       "      <td>lahka označena pot</td>\n",
       "      <td>45</td>\n",
       "      <td>4</td>\n",
       "      <td>planina</td>\n",
       "      <td>Goriško, Notranjsko in Snežniško hribovje</td>\n",
       "      <td>Bezgarska planina se nahaja zahodno od Borovšk...</td>\n",
       "    </tr>\n",
       "    <tr>\n",
       "      <th>1416</th>\n",
       "      <td>Bivak Črna peč</td>\n",
       "      <td>830</td>\n",
       "      <td>1313</td>\n",
       "      <td>48</td>\n",
       "      <td>delno zahtevna označena pot</td>\n",
       "      <td>120</td>\n",
       "      <td>2</td>\n",
       "      <td>bivak</td>\n",
       "      <td>Goriško, Notranjsko in Snežniško hribovje</td>\n",
       "      <td>Bivak Črna peč je bivak zaprtega tipa in je la...</td>\n",
       "    </tr>\n",
       "    <tr>\n",
       "      <th>...</th>\n",
       "      <td>...</td>\n",
       "      <td>...</td>\n",
       "      <td>...</td>\n",
       "      <td>...</td>\n",
       "      <td>...</td>\n",
       "      <td>...</td>\n",
       "      <td>...</td>\n",
       "      <td>...</td>\n",
       "      <td>...</td>\n",
       "      <td>...</td>\n",
       "    </tr>\n",
       "    <tr>\n",
       "      <th>2277</th>\n",
       "      <td>Vipota</td>\n",
       "      <td>532</td>\n",
       "      <td>1354</td>\n",
       "      <td>47</td>\n",
       "      <td>lahka označena pot</td>\n",
       "      <td>60</td>\n",
       "      <td>3</td>\n",
       "      <td>vrh</td>\n",
       "      <td>Zasavsko - Posavsko hribovje in Dolenjska</td>\n",
       "      <td>Vipota je 532 metrov visok vrh južno od Celja ...</td>\n",
       "    </tr>\n",
       "    <tr>\n",
       "      <th>1662</th>\n",
       "      <td>Visoka špica</td>\n",
       "      <td>660</td>\n",
       "      <td>1016</td>\n",
       "      <td>60</td>\n",
       "      <td>lahka neoznačena steza</td>\n",
       "      <td>40</td>\n",
       "      <td>3</td>\n",
       "      <td>vrh</td>\n",
       "      <td>Zasavsko - Posavsko hribovje in Dolenjska</td>\n",
       "      <td>Neizrazita, a od povsod lepo vidna gozdnata vz...</td>\n",
       "    </tr>\n",
       "    <tr>\n",
       "      <th>2310</th>\n",
       "      <td>Vrh (Šticna)</td>\n",
       "      <td>679</td>\n",
       "      <td>1488</td>\n",
       "      <td>42</td>\n",
       "      <td>lahka neoznačena steza</td>\n",
       "      <td>60</td>\n",
       "      <td>1</td>\n",
       "      <td>vrh</td>\n",
       "      <td>Zasavsko - Posavsko hribovje in Dolenjska</td>\n",
       "      <td>Vrh, ki je v Zasavju znan pod imenom Šticna, j...</td>\n",
       "    </tr>\n",
       "    <tr>\n",
       "      <th>2141</th>\n",
       "      <td>Vrhija</td>\n",
       "      <td>648</td>\n",
       "      <td>1635</td>\n",
       "      <td>36</td>\n",
       "      <td>lahka neoznačena steza</td>\n",
       "      <td>60</td>\n",
       "      <td>1</td>\n",
       "      <td>vrh</td>\n",
       "      <td>Zasavsko - Posavsko hribovje in Dolenjska</td>\n",
       "      <td>Vrhija je 648 m visok hrib, ki se nahaja zahod...</td>\n",
       "    </tr>\n",
       "    <tr>\n",
       "      <th>2338</th>\n",
       "      <td>Vrunčev dom na Svetini</td>\n",
       "      <td>780</td>\n",
       "      <td>988</td>\n",
       "      <td>61</td>\n",
       "      <td>lahka označena pot</td>\n",
       "      <td>180</td>\n",
       "      <td>5</td>\n",
       "      <td>koča</td>\n",
       "      <td>Zasavsko - Posavsko hribovje in Dolenjska</td>\n",
       "      <td>Vrunčev dom na Svetini leži na prijetni razgle...</td>\n",
       "    </tr>\n",
       "    <tr>\n",
       "      <th>2129</th>\n",
       "      <td>Zabreznik (Sv. Miklavž)</td>\n",
       "      <td>644</td>\n",
       "      <td>1650</td>\n",
       "      <td>35</td>\n",
       "      <td>lahka neoznačena steza</td>\n",
       "      <td>60</td>\n",
       "      <td>2</td>\n",
       "      <td>vrh, cerkev</td>\n",
       "      <td>Zasavsko - Posavsko hribovje in Dolenjska</td>\n",
       "      <td>Zabreznik je vrh, ki se nahaja severovzhodno n...</td>\n",
       "    </tr>\n",
       "    <tr>\n",
       "      <th>2748</th>\n",
       "      <td>Žagarski vrh</td>\n",
       "      <td>627</td>\n",
       "      <td>2032</td>\n",
       "      <td>20</td>\n",
       "      <td>lahka označena pot</td>\n",
       "      <td>35</td>\n",
       "      <td>1</td>\n",
       "      <td>vrh, koča</td>\n",
       "      <td>Zasavsko - Posavsko hribovje in Dolenjska</td>\n",
       "      <td>Žagarski vrh se nahaja v grebenu, ki leži med ...</td>\n",
       "    </tr>\n",
       "    <tr>\n",
       "      <th>174</th>\n",
       "      <td>Zajčeva koča</td>\n",
       "      <td>742</td>\n",
       "      <td>772</td>\n",
       "      <td>70</td>\n",
       "      <td>lahka označena pot</td>\n",
       "      <td>60</td>\n",
       "      <td>2</td>\n",
       "      <td>koča</td>\n",
       "      <td>Zasavsko - Posavsko hribovje in Dolenjska</td>\n",
       "      <td>Zajčeva koča, ki je v razširjeni poletni sezon...</td>\n",
       "    </tr>\n",
       "    <tr>\n",
       "      <th>2612</th>\n",
       "      <td>Zaplaz</td>\n",
       "      <td>543</td>\n",
       "      <td>2201</td>\n",
       "      <td>13</td>\n",
       "      <td>lahka označena pot</td>\n",
       "      <td>20</td>\n",
       "      <td>3</td>\n",
       "      <td>vrh, cerkev</td>\n",
       "      <td>Zasavsko - Posavsko hribovje in Dolenjska</td>\n",
       "      <td>Zaplaz je 543 metrov visok hrib, ki se nahaja ...</td>\n",
       "    </tr>\n",
       "    <tr>\n",
       "      <th>214</th>\n",
       "      <td>Zasavska Sveta gora</td>\n",
       "      <td>852</td>\n",
       "      <td>154</td>\n",
       "      <td>94</td>\n",
       "      <td>lahka označena pot</td>\n",
       "      <td>120</td>\n",
       "      <td>5</td>\n",
       "      <td>vrh, cerkev</td>\n",
       "      <td>Zasavsko - Posavsko hribovje in Dolenjska</td>\n",
       "      <td>Zasavska Sveta gora je priljubljena izletniška...</td>\n",
       "    </tr>\n",
       "  </tbody>\n",
       "</table>\n",
       "<p>1704 rows × 10 columns</p>\n",
       "</div>"
      ],
      "text/plain": [
       "                          Ime  Nadmorska višina v metrih  \\\n",
       "id                                                         \n",
       "1950                     Ahac                        799   \n",
       "2566               Ajdovščina                        804   \n",
       "891                   Ankaran                         18   \n",
       "2594    Baba (pri Javornikih)                       1085   \n",
       "1740               Bela stena                       1122   \n",
       "1227                Bele ovce                       1029   \n",
       "1144               Bele stene                        863   \n",
       "2135                  Belovka                        848   \n",
       "2556        Bezgarska planina                        895   \n",
       "1416           Bivak Črna peč                        830   \n",
       "...                       ...                        ...   \n",
       "2277                   Vipota                        532   \n",
       "1662            Visoka špica                         660   \n",
       "2310             Vrh (Šticna)                        679   \n",
       "2141                   Vrhija                        648   \n",
       "2338   Vrunčev dom na Svetini                        780   \n",
       "2129  Zabreznik (Sv. Miklavž)                        644   \n",
       "2748             Žagarski vrh                        627   \n",
       "174              Zajčeva koča                        742   \n",
       "2612                   Zaplaz                        543   \n",
       "214       Zasavska Sveta gora                        852   \n",
       "\n",
       "      Mesto priljubljenosti  Priljubljenost v %              Zahtevnost poti  \\\n",
       "id                                                                             \n",
       "1950                   1382                  46           lahka označena pot   \n",
       "2566                   2054                  19       lahka neoznačena steza   \n",
       "891                     547                  78           lahka označena pot   \n",
       "2594                   2081                  18       lahka neoznačena steza   \n",
       "1740                   1236                  51           lahka označena pot   \n",
       "1227                   1204                  53       lahka neoznačena steza   \n",
       "1144                   1310                  49           lahka označena pot   \n",
       "2135                   1579                  38       lahka neoznačena steza   \n",
       "2556                   2257                  11           lahka označena pot   \n",
       "1416                   1313                  48  delno zahtevna označena pot   \n",
       "...                     ...                 ...                          ...   \n",
       "2277                   1354                  47           lahka označena pot   \n",
       "1662                   1016                  60       lahka neoznačena steza   \n",
       "2310                   1488                  42       lahka neoznačena steza   \n",
       "2141                   1635                  36       lahka neoznačena steza   \n",
       "2338                    988                  61           lahka označena pot   \n",
       "2129                   1650                  35       lahka neoznačena steza   \n",
       "2748                   2032                  20           lahka označena pot   \n",
       "174                     772                  70           lahka označena pot   \n",
       "2612                   2201                  13           lahka označena pot   \n",
       "214                     154                  94           lahka označena pot   \n",
       "\n",
       "      Čas poti v min  Št. poti        Vrsta  \\\n",
       "id                                            \n",
       "1950              40         5  vrh, cerkev   \n",
       "2566              40         1          vrh   \n",
       "891              180         3          NaN   \n",
       "2594              60         2          vrh   \n",
       "1740             120         1          vrh   \n",
       "1227              30         1          vrh   \n",
       "1144              60         2          NaN   \n",
       "2135              15         2          vrh   \n",
       "2556              45         4      planina   \n",
       "1416             120         2        bivak   \n",
       "...              ...       ...          ...   \n",
       "2277              60         3          vrh   \n",
       "1662              40         3          vrh   \n",
       "2310              60         1          vrh   \n",
       "2141              60         1          vrh   \n",
       "2338             180         5         koča   \n",
       "2129              60         2  vrh, cerkev   \n",
       "2748              35         1    vrh, koča   \n",
       "174               60         2         koča   \n",
       "2612              20         3  vrh, cerkev   \n",
       "214              120         5  vrh, cerkev   \n",
       "\n",
       "                                        Gorovje  \\\n",
       "id                                                \n",
       "1950  Goriško, Notranjsko in Snežniško hribovje   \n",
       "2566  Goriško, Notranjsko in Snežniško hribovje   \n",
       "891   Goriško, Notranjsko in Snežniško hribovje   \n",
       "2594  Goriško, Notranjsko in Snežniško hribovje   \n",
       "1740  Goriško, Notranjsko in Snežniško hribovje   \n",
       "1227  Goriško, Notranjsko in Snežniško hribovje   \n",
       "1144  Goriško, Notranjsko in Snežniško hribovje   \n",
       "2135  Goriško, Notranjsko in Snežniško hribovje   \n",
       "2556  Goriško, Notranjsko in Snežniško hribovje   \n",
       "1416  Goriško, Notranjsko in Snežniško hribovje   \n",
       "...                                         ...   \n",
       "2277  Zasavsko - Posavsko hribovje in Dolenjska   \n",
       "1662  Zasavsko - Posavsko hribovje in Dolenjska   \n",
       "2310  Zasavsko - Posavsko hribovje in Dolenjska   \n",
       "2141  Zasavsko - Posavsko hribovje in Dolenjska   \n",
       "2338  Zasavsko - Posavsko hribovje in Dolenjska   \n",
       "2129  Zasavsko - Posavsko hribovje in Dolenjska   \n",
       "2748  Zasavsko - Posavsko hribovje in Dolenjska   \n",
       "174   Zasavsko - Posavsko hribovje in Dolenjska   \n",
       "2612  Zasavsko - Posavsko hribovje in Dolenjska   \n",
       "214   Zasavsko - Posavsko hribovje in Dolenjska   \n",
       "\n",
       "                                                   Opis  \n",
       "id                                                       \n",
       "1950  Ahac oz. sv. Ahac je 799 m visok vrh, ki se na...  \n",
       "2566  Ajdovščina je 804 metre visok vrh, ki se nahaj...  \n",
       "891   Ankaran je naselje ob slovenski obali, ki se n...  \n",
       "2594  Baba je 1085 metrov visok vrh, ki se nahaja me...  \n",
       "1740  Bela stena (tudi samo Stene) je razgledna točk...  \n",
       "1227  Bele ovce so neporaščen vrh, ki se nahaja vzho...  \n",
       "1144  Bele stene se nahajajo severno od vasi Jurišče...  \n",
       "2135  Belovka je 848 metrov visok hrib, ki se nahaja...  \n",
       "2556  Bezgarska planina se nahaja zahodno od Borovšk...  \n",
       "1416  Bivak Črna peč je bivak zaprtega tipa in je la...  \n",
       "...                                                 ...  \n",
       "2277  Vipota je 532 metrov visok vrh južno od Celja ...  \n",
       "1662  Neizrazita, a od povsod lepo vidna gozdnata vz...  \n",
       "2310  Vrh, ki je v Zasavju znan pod imenom Šticna, j...  \n",
       "2141  Vrhija je 648 m visok hrib, ki se nahaja zahod...  \n",
       "2338  Vrunčev dom na Svetini leži na prijetni razgle...  \n",
       "2129  Zabreznik je vrh, ki se nahaja severovzhodno n...  \n",
       "2748  Žagarski vrh se nahaja v grebenu, ki leži med ...  \n",
       "174   Zajčeva koča, ki je v razširjeni poletni sezon...  \n",
       "2612  Zaplaz je 543 metrov visok hrib, ki se nahaja ...  \n",
       "214   Zasavska Sveta gora je priljubljena izletniška...  \n",
       "\n",
       "[1704 rows x 10 columns]"
      ]
     },
     "execution_count": 295,
     "metadata": {},
     "output_type": "execute_result"
    }
   ],
   "source": [
    "izleti = izleti[['Ime', 'Nadmorska višina v metrih', 'Mesto priljubljenosti', 'Priljubljenost v %', \n",
    "                 'Zahtevnost poti', 'Čas poti v min', 'Št. poti', 'Vrsta', 'Gorovje', 'Opis']]\n",
    "izleti"
   ]
  },
  {
   "cell_type": "markdown",
   "metadata": {},
   "source": [
    "Povprečni izlet ima naslednje lastnosti:"
   ]
  },
  {
   "cell_type": "code",
   "execution_count": 296,
   "metadata": {},
   "outputs": [
    {
     "data": {
      "text/plain": [
       "Nadmorska višina v metrih    1197.588615\n",
       "Mesto priljubljenosti        1041.220070\n",
       "Priljubljenost v %             59.075704\n",
       "Čas poti v min                 94.024061\n",
       "Št. poti                        3.225352\n",
       "dtype: float64"
      ]
     },
     "execution_count": 296,
     "metadata": {},
     "output_type": "execute_result"
    }
   ],
   "source": [
    "povprecni_izlet = izleti.mean()\n",
    "povprecni_izlet"
   ]
  },
  {
   "cell_type": "code",
   "execution_count": 297,
   "metadata": {},
   "outputs": [],
   "source": [
    "priljubljeni = izleti['Priljubljenost v %'] >= 80\n",
    "priljubljeni_izleti = izleti[priljubljeni]"
   ]
  },
  {
   "cell_type": "code",
   "execution_count": 298,
   "metadata": {},
   "outputs": [],
   "source": [
    "kratki = izleti['Čas poti v min'] <= 20\n",
    "zacetniski = izleti[priljubljeni & kratki]"
   ]
  },
  {
   "cell_type": "code",
   "execution_count": 299,
   "metadata": {},
   "outputs": [],
   "source": [
    "nizji = izleti['Nadmorska višina v metrih'] <= 1500\n",
    "krajsi = izleti['Čas poti v min'] <= 30\n",
    "druzinski = izleti[priljubljeni & nizji & krajsi]"
   ]
  },
  {
   "cell_type": "code",
   "execution_count": 300,
   "metadata": {},
   "outputs": [],
   "source": [
    "visji = izleti['Nadmorska višina v metrih'] >= 1500\n",
    "daljsi = izleti['Čas poti v min'] > 60\n",
    "sportni = izleti[priljubljeni & visji & daljsi] "
   ]
  },
  {
   "cell_type": "code",
   "execution_count": 301,
   "metadata": {},
   "outputs": [],
   "source": [
    "visoki = izleti['Nadmorska višina v metrih'] >= 2000\n",
    "dolgi = izleti['Čas poti v min'] >= 300\n",
    "ekstremni = izleti[priljubljeni & visoki & dolgi]"
   ]
  },
  {
   "cell_type": "code",
   "execution_count": 302,
   "metadata": {},
   "outputs": [],
   "source": [
    "st_za = zacetniski.count()\n",
    "st_dr = druzinski.count()\n",
    "st_sp = sportni.count()\n",
    "st_ek = ekstremni.count()"
   ]
  },
  {
   "cell_type": "code",
   "execution_count": 303,
   "metadata": {},
   "outputs": [
    {
     "data": {
      "text/plain": [
       "Zahtevnost poti\n",
       "lahka označena pot                1047\n",
       "lahka neoznačena steza             325\n",
       "delno zahtevna označena pot         72\n",
       "lahko brezpotje                     69\n",
       "zahtevna označena pot               43\n",
       "zelo zahtevna označena pot          35\n",
       "delno zahtevna neoznačena pot       33\n",
       "zahtevno brezpotje                  27\n",
       "zahtevna neoznačena steza           24\n",
       "zelo zahtevno brezpotje             12\n",
       "izjemno zahtevna označena pot        7\n",
       "zelo zahtevna neoznačena steza       5\n",
       "alpinistični vzpon                   3\n",
       "ni podatka                           2\n",
       "dtype: int64"
      ]
     },
     "execution_count": 303,
     "metadata": {},
     "output_type": "execute_result"
    }
   ],
   "source": [
    "zahtevnost = izleti.groupby('Zahtevnost poti')\n",
    "zahtevnost.size().sort_values(ascending=False)"
   ]
  },
  {
   "cell_type": "code",
   "execution_count": 304,
   "metadata": {},
   "outputs": [
    {
     "data": {
      "text/plain": [
       "Gorovje\n",
       "Julijske Alpe                                    462\n",
       "Goriško, Notranjsko in Snežniško hribovje        263\n",
       "Kamniško Savinjske Alpe                          257\n",
       "Karavanke                                        255\n",
       "Zasavsko - Posavsko hribovje in Dolenjska        181\n",
       "Škofjeloško, Cerkljansko hribovje in Jelovica    116\n",
       "Pohorje in ostala severovzhodna Slovenija         92\n",
       "Polhograjsko hribovje in Ljubljana                78\n",
       "dtype: int64"
      ]
     },
     "execution_count": 304,
     "metadata": {},
     "output_type": "execute_result"
    }
   ],
   "source": [
    "gorovje = izleti.groupby('Gorovje')\n",
    "izleti_v_gorovju = gorovje.size().sort_values(ascending=False)\n",
    "izleti_v_gorovju"
   ]
  },
  {
   "cell_type": "markdown",
   "metadata": {},
   "source": [
    "Izleti v različnih gorovjih pa imajo take lastnosti:"
   ]
  },
  {
   "cell_type": "code",
   "execution_count": 305,
   "metadata": {},
   "outputs": [
    {
     "data": {
      "text/html": [
       "<div>\n",
       "<style scoped>\n",
       "    .dataframe tbody tr th:only-of-type {\n",
       "        vertical-align: middle;\n",
       "    }\n",
       "\n",
       "    .dataframe tbody tr th {\n",
       "        vertical-align: top;\n",
       "    }\n",
       "\n",
       "    .dataframe thead th {\n",
       "        text-align: right;\n",
       "    }\n",
       "</style>\n",
       "<table border=\"1\" class=\"dataframe\">\n",
       "  <thead>\n",
       "    <tr style=\"text-align: right;\">\n",
       "      <th></th>\n",
       "      <th>Nadmorska višina v metrih</th>\n",
       "      <th>Mesto priljubljenosti</th>\n",
       "      <th>Priljubljenost v %</th>\n",
       "      <th>Čas poti v min</th>\n",
       "      <th>Št. poti</th>\n",
       "    </tr>\n",
       "    <tr>\n",
       "      <th>Gorovje</th>\n",
       "      <th></th>\n",
       "      <th></th>\n",
       "      <th></th>\n",
       "      <th></th>\n",
       "      <th></th>\n",
       "    </tr>\n",
       "  </thead>\n",
       "  <tbody>\n",
       "    <tr>\n",
       "      <th>Goriško, Notranjsko in Snežniško hribovje</th>\n",
       "      <td>783.376426</td>\n",
       "      <td>1229.536122</td>\n",
       "      <td>51.646388</td>\n",
       "      <td>67.053232</td>\n",
       "      <td>2.893536</td>\n",
       "    </tr>\n",
       "    <tr>\n",
       "      <th>Julijske Alpe</th>\n",
       "      <td>1638.835498</td>\n",
       "      <td>832.134199</td>\n",
       "      <td>67.296537</td>\n",
       "      <td>143.140693</td>\n",
       "      <td>2.831169</td>\n",
       "    </tr>\n",
       "    <tr>\n",
       "      <th>Kamniško Savinjske Alpe</th>\n",
       "      <td>1430.891051</td>\n",
       "      <td>829.622568</td>\n",
       "      <td>67.392996</td>\n",
       "      <td>102.182879</td>\n",
       "      <td>4.171206</td>\n",
       "    </tr>\n",
       "    <tr>\n",
       "      <th>Karavanke</th>\n",
       "      <td>1335.329412</td>\n",
       "      <td>1150.521569</td>\n",
       "      <td>54.800000</td>\n",
       "      <td>84.019608</td>\n",
       "      <td>3.333333</td>\n",
       "    </tr>\n",
       "    <tr>\n",
       "      <th>Pohorje in ostala severovzhodna Slovenija</th>\n",
       "      <td>844.445652</td>\n",
       "      <td>1268.608696</td>\n",
       "      <td>50.119565</td>\n",
       "      <td>75.239130</td>\n",
       "      <td>2.369565</td>\n",
       "    </tr>\n",
       "    <tr>\n",
       "      <th>Polhograjsko hribovje in Ljubljana</th>\n",
       "      <td>644.192308</td>\n",
       "      <td>1036.743590</td>\n",
       "      <td>59.230769</td>\n",
       "      <td>45.897436</td>\n",
       "      <td>3.961538</td>\n",
       "    </tr>\n",
       "    <tr>\n",
       "      <th>Zasavsko - Posavsko hribovje in Dolenjska</th>\n",
       "      <td>695.348066</td>\n",
       "      <td>1194.353591</td>\n",
       "      <td>53.077348</td>\n",
       "      <td>61.712707</td>\n",
       "      <td>2.895028</td>\n",
       "    </tr>\n",
       "    <tr>\n",
       "      <th>Škofjeloško, Cerkljansko hribovje in Jelovica</th>\n",
       "      <td>995.508621</td>\n",
       "      <td>1259.250000</td>\n",
       "      <td>50.508621</td>\n",
       "      <td>61.146552</td>\n",
       "      <td>3.913793</td>\n",
       "    </tr>\n",
       "  </tbody>\n",
       "</table>\n",
       "</div>"
      ],
      "text/plain": [
       "                                               Nadmorska višina v metrih  \\\n",
       "Gorovje                                                                    \n",
       "Goriško, Notranjsko in Snežniško hribovje                     783.376426   \n",
       "Julijske Alpe                                                1638.835498   \n",
       "Kamniško Savinjske Alpe                                      1430.891051   \n",
       "Karavanke                                                    1335.329412   \n",
       "Pohorje in ostala severovzhodna Slovenija                     844.445652   \n",
       "Polhograjsko hribovje in Ljubljana                            644.192308   \n",
       "Zasavsko - Posavsko hribovje in Dolenjska                     695.348066   \n",
       "Škofjeloško, Cerkljansko hribovje in Jelovica                 995.508621   \n",
       "\n",
       "                                               Mesto priljubljenosti  \\\n",
       "Gorovje                                                                \n",
       "Goriško, Notranjsko in Snežniško hribovje                1229.536122   \n",
       "Julijske Alpe                                             832.134199   \n",
       "Kamniško Savinjske Alpe                                   829.622568   \n",
       "Karavanke                                                1150.521569   \n",
       "Pohorje in ostala severovzhodna Slovenija                1268.608696   \n",
       "Polhograjsko hribovje in Ljubljana                       1036.743590   \n",
       "Zasavsko - Posavsko hribovje in Dolenjska                1194.353591   \n",
       "Škofjeloško, Cerkljansko hribovje in Jelovica            1259.250000   \n",
       "\n",
       "                                               Priljubljenost v %  \\\n",
       "Gorovje                                                             \n",
       "Goriško, Notranjsko in Snežniško hribovje               51.646388   \n",
       "Julijske Alpe                                           67.296537   \n",
       "Kamniško Savinjske Alpe                                 67.392996   \n",
       "Karavanke                                               54.800000   \n",
       "Pohorje in ostala severovzhodna Slovenija               50.119565   \n",
       "Polhograjsko hribovje in Ljubljana                      59.230769   \n",
       "Zasavsko - Posavsko hribovje in Dolenjska               53.077348   \n",
       "Škofjeloško, Cerkljansko hribovje in Jelovica           50.508621   \n",
       "\n",
       "                                               Čas poti v min  Št. poti  \n",
       "Gorovje                                                                  \n",
       "Goriško, Notranjsko in Snežniško hribovje           67.053232  2.893536  \n",
       "Julijske Alpe                                      143.140693  2.831169  \n",
       "Kamniško Savinjske Alpe                            102.182879  4.171206  \n",
       "Karavanke                                           84.019608  3.333333  \n",
       "Pohorje in ostala severovzhodna Slovenija           75.239130  2.369565  \n",
       "Polhograjsko hribovje in Ljubljana                  45.897436  3.961538  \n",
       "Zasavsko - Posavsko hribovje in Dolenjska           61.712707  2.895028  \n",
       "Škofjeloško, Cerkljansko hribovje in Jelovica       61.146552  3.913793  "
      ]
     },
     "execution_count": 305,
     "metadata": {},
     "output_type": "execute_result"
    }
   ],
   "source": [
    "gorovje.mean()"
   ]
  },
  {
   "cell_type": "markdown",
   "metadata": {},
   "source": [
    "#### Zanima nas kako se število izletov spreminja z gorovji:"
   ]
  },
  {
   "cell_type": "code",
   "execution_count": 306,
   "metadata": {},
   "outputs": [
    {
     "data": {
      "text/plain": [
       "<matplotlib.axes._subplots.AxesSubplot at 0x181992f3c18>"
      ]
     },
     "execution_count": 306,
     "metadata": {},
     "output_type": "execute_result"
    },
    {
     "data": {
      "image/png": "[encoded data removed]",
      "text/plain": [
       "<Figure size 1008x504 with 1 Axes>"
      ]
     },
     "metadata": {
      "needs_background": "light"
     },
     "output_type": "display_data"
    }
   ],
   "source": [
    "izleti_v_gorovju.plot.bar(title = 'Število izletov po gorovjih', grid = True)"
   ]
  },
  {
   "cell_type": "markdown",
   "metadata": {},
   "source": [
    "Po pričakovanjih je največ izletov v Julijskih Alpah, saj so najbolj razgibane in imajo več vrhov. "
   ]
  },
  {
   "cell_type": "markdown",
   "metadata": {},
   "source": [
    "#### Kako se spreminja višina med 30 najbolj priljubljenimi izleti?"
   ]
  },
  {
   "cell_type": "code",
   "execution_count": 307,
   "metadata": {},
   "outputs": [
    {
     "data": {
      "text/plain": [
       "<matplotlib.axes._subplots.AxesSubplot at 0x1819974e470>"
      ]
     },
     "execution_count": 307,
     "metadata": {},
     "output_type": "execute_result"
    },
    {
     "data": {
      "image/png": "[encoded data removed]",
      "text/plain": [
       "<Figure size 1008x504 with 1 Axes>"
      ]
     },
     "metadata": {
      "needs_background": "light"
     },
     "output_type": "display_data"
    }
   ],
   "source": [
    "najbolj_priljubljeni = priljubljeni_izleti.sort_values('Mesto priljubljenosti').head(500)\n",
    "#najbolj_priljubljeni.plot.bar(x = 'Ime', y = 'Nadmorska višina v metrih', title = 'Spreminjaje višine med 30 najbolj priljubljenimi izleti',grid=True)\n",
    "najbolj_priljubljeni.plot.scatter('Mesto priljubljenosti', 'Nadmorska višina v metrih')\n",
    "\n",
    "############# TODO komentiraj"
   ]
  },
  {
   "cell_type": "markdown",
   "metadata": {},
   "source": [
    "Kako se spreminja čas poti z višino"
   ]
  },
  {
   "cell_type": "code",
   "execution_count": 330,
   "metadata": {},
   "outputs": [
    {
     "data": {
      "text/plain": [
       "<matplotlib.axes._subplots.AxesSubplot at 0x1819dc18f98>"
      ]
     },
     "execution_count": 330,
     "metadata": {},
     "output_type": "execute_result"
    },
    {
     "data": {
      "image/png": "[encoded data removed]",
      "text/plain": [
       "<Figure size 1008x504 with 1 Axes>"
      ]
     },
     "metadata": {
      "needs_background": "light"
     },
     "output_type": "display_data"
    }
   ],
   "source": [
    "najbolj_priljubljeni.sort_values('Nadmorska višina v metrih').plot.scatter('Nadmorska višina v metrih', 'Čas poti v min')"
   ]
  },
  {
   "cell_type": "markdown",
   "metadata": {},
   "source": [
    "Pričakovano je bilo, da se bo z nadmorsko višino večal tudi čas poti. Iz grafa vidimo, da to načeloma drži, vendar obstajajo tudi izjeme. Velika dolžina poti pri nižje ležečih izletih se pojavi zaradi tega, ker je pot dolga, ne pa strma. V visokih predelih pa so poti, do katerih se lahko dostopa z avtom in nato hodi manj časa."
   ]
  },
  {
   "cell_type": "code",
   "execution_count": null,
   "metadata": {},
   "outputs": [],
   "source": []
  }
 ],
 "metadata": {
  "kernelspec": {
   "display_name": "Python 3",
   "language": "python",
   "name": "python3"
  },
  "language_info": {
   "codemirror_mode": {
    "name": "ipython",
    "version": 3
   },
   "file_extension": ".py",
   "mimetype": "text/x-python",
   "name": "python",
   "nbconvert_exporter": "python",
   "pygments_lexer": "ipython3",
   "version": "3.6.7"
  }
 },
 "nbformat": 4,
 "nbformat_minor": 2
}
